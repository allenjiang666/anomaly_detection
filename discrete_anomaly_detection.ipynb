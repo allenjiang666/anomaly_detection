{
 "cells": [
  {
   "cell_type": "markdown",
   "metadata": {},
   "source": [
    "# Discrete Probabilistic Methods"
   ]
  },
  {
   "cell_type": "code",
   "execution_count": 1,
   "metadata": {},
   "outputs": [],
   "source": [
    "import pandas as pd\n",
    "import numpy as np\n",
    "import matplotlib.pyplot as plt\n",
    "import seaborn as sns\n",
    "from datetime import datetime, timedelta"
   ]
  },
  {
   "cell_type": "markdown",
   "metadata": {},
   "source": [
    "## Exercise 1\n",
    "Discrete Data + Probability\n",
    "- Use basic probability to i**dentify anomalous request methods**. You will want to make sure the text is normalized in order to reduce the noise."
   ]
  },
  {
   "cell_type": "code",
   "execution_count": 2,
   "metadata": {},
   "outputs": [
    {
     "data": {
      "text/html": [
       "<div>\n",
       "<style scoped>\n",
       "    .dataframe tbody tr th:only-of-type {\n",
       "        vertical-align: middle;\n",
       "    }\n",
       "\n",
       "    .dataframe tbody tr th {\n",
       "        vertical-align: top;\n",
       "    }\n",
       "\n",
       "    .dataframe thead th {\n",
       "        text-align: right;\n",
       "    }\n",
       "</style>\n",
       "<table border=\"1\" class=\"dataframe\">\n",
       "  <thead>\n",
       "    <tr style=\"text-align: right;\">\n",
       "      <th></th>\n",
       "      <th>data</th>\n",
       "      <th>time</th>\n",
       "      <th>destination</th>\n",
       "      <th>unknown_1</th>\n",
       "      <th>unknown_2</th>\n",
       "      <th>ip</th>\n",
       "    </tr>\n",
       "  </thead>\n",
       "  <tbody>\n",
       "    <tr>\n",
       "      <td>0</td>\n",
       "      <td>2018-01-26</td>\n",
       "      <td>09:55:03</td>\n",
       "      <td>/</td>\n",
       "      <td>1</td>\n",
       "      <td>8.0</td>\n",
       "      <td>98.106.20.62</td>\n",
       "    </tr>\n",
       "    <tr>\n",
       "      <td>1</td>\n",
       "      <td>2018-01-26</td>\n",
       "      <td>09:56:02</td>\n",
       "      <td>java-ii</td>\n",
       "      <td>1</td>\n",
       "      <td>8.0</td>\n",
       "      <td>98.106.20.62</td>\n",
       "    </tr>\n",
       "    <tr>\n",
       "      <td>2</td>\n",
       "      <td>2018-01-26</td>\n",
       "      <td>09:56:05</td>\n",
       "      <td>java-ii/object-oriented-programming</td>\n",
       "      <td>1</td>\n",
       "      <td>8.0</td>\n",
       "      <td>98.106.20.62</td>\n",
       "    </tr>\n",
       "    <tr>\n",
       "      <td>3</td>\n",
       "      <td>2018-01-26</td>\n",
       "      <td>09:56:06</td>\n",
       "      <td>slides/object_oriented_programming</td>\n",
       "      <td>1</td>\n",
       "      <td>8.0</td>\n",
       "      <td>98.106.20.62</td>\n",
       "    </tr>\n",
       "    <tr>\n",
       "      <td>4</td>\n",
       "      <td>2018-01-26</td>\n",
       "      <td>09:56:24</td>\n",
       "      <td>javascript-i/conditionals</td>\n",
       "      <td>2</td>\n",
       "      <td>22.0</td>\n",
       "      <td>98.106.20.62</td>\n",
       "    </tr>\n",
       "  </tbody>\n",
       "</table>\n",
       "</div>"
      ],
      "text/plain": [
       "         data      time                          destination  unknown_1  \\\n",
       "0  2018-01-26  09:55:03                                    /          1   \n",
       "1  2018-01-26  09:56:02                              java-ii          1   \n",
       "2  2018-01-26  09:56:05  java-ii/object-oriented-programming          1   \n",
       "3  2018-01-26  09:56:06   slides/object_oriented_programming          1   \n",
       "4  2018-01-26  09:56:24            javascript-i/conditionals          2   \n",
       "\n",
       "   unknown_2            ip  \n",
       "0        8.0  98.106.20.62  \n",
       "1        8.0  98.106.20.62  \n",
       "2        8.0  98.106.20.62  \n",
       "3        8.0  98.106.20.62  \n",
       "4       22.0  98.106.20.62  "
      ]
     },
     "execution_count": 2,
     "metadata": {},
     "output_type": "execute_result"
    }
   ],
   "source": [
    "df =pd.read_csv('curriculum-access.txt',sep=\" \", header=None, names = ['data','time','destination','unknown_1','unknown_2','ip'])\n",
    "df.head()"
   ]
  },
  {
   "cell_type": "markdown",
   "metadata": {},
   "source": [
    "- Convert time to date time"
   ]
  },
  {
   "cell_type": "code",
   "execution_count": 3,
   "metadata": {},
   "outputs": [],
   "source": [
    "df['date_time'] = df[\"data\"] + ' ' +df[\"time\"]\n",
    "\n",
    "df = df.drop(columns = ['data','time'])"
   ]
  },
  {
   "cell_type": "code",
   "execution_count": 4,
   "metadata": {},
   "outputs": [
    {
     "data": {
      "text/html": [
       "<div>\n",
       "<style scoped>\n",
       "    .dataframe tbody tr th:only-of-type {\n",
       "        vertical-align: middle;\n",
       "    }\n",
       "\n",
       "    .dataframe tbody tr th {\n",
       "        vertical-align: top;\n",
       "    }\n",
       "\n",
       "    .dataframe thead th {\n",
       "        text-align: right;\n",
       "    }\n",
       "</style>\n",
       "<table border=\"1\" class=\"dataframe\">\n",
       "  <thead>\n",
       "    <tr style=\"text-align: right;\">\n",
       "      <th></th>\n",
       "      <th>destination</th>\n",
       "      <th>unknown_1</th>\n",
       "      <th>unknown_2</th>\n",
       "      <th>ip</th>\n",
       "    </tr>\n",
       "    <tr>\n",
       "      <th>date_time</th>\n",
       "      <th></th>\n",
       "      <th></th>\n",
       "      <th></th>\n",
       "      <th></th>\n",
       "    </tr>\n",
       "  </thead>\n",
       "  <tbody>\n",
       "    <tr>\n",
       "      <td>2018-01-26 03:55:03</td>\n",
       "      <td>/</td>\n",
       "      <td>1</td>\n",
       "      <td>8.0</td>\n",
       "      <td>98.106.20.62</td>\n",
       "    </tr>\n",
       "    <tr>\n",
       "      <td>2018-01-26 03:56:02</td>\n",
       "      <td>java-ii</td>\n",
       "      <td>1</td>\n",
       "      <td>8.0</td>\n",
       "      <td>98.106.20.62</td>\n",
       "    </tr>\n",
       "    <tr>\n",
       "      <td>2018-01-26 03:56:05</td>\n",
       "      <td>java-ii/object-oriented-programming</td>\n",
       "      <td>1</td>\n",
       "      <td>8.0</td>\n",
       "      <td>98.106.20.62</td>\n",
       "    </tr>\n",
       "    <tr>\n",
       "      <td>2018-01-26 03:56:06</td>\n",
       "      <td>slides/object_oriented_programming</td>\n",
       "      <td>1</td>\n",
       "      <td>8.0</td>\n",
       "      <td>98.106.20.62</td>\n",
       "    </tr>\n",
       "    <tr>\n",
       "      <td>2018-01-26 03:56:24</td>\n",
       "      <td>javascript-i/conditionals</td>\n",
       "      <td>2</td>\n",
       "      <td>22.0</td>\n",
       "      <td>98.106.20.62</td>\n",
       "    </tr>\n",
       "  </tbody>\n",
       "</table>\n",
       "</div>"
      ],
      "text/plain": [
       "                                             destination  unknown_1  \\\n",
       "date_time                                                             \n",
       "2018-01-26 03:55:03                                    /          1   \n",
       "2018-01-26 03:56:02                              java-ii          1   \n",
       "2018-01-26 03:56:05  java-ii/object-oriented-programming          1   \n",
       "2018-01-26 03:56:06   slides/object_oriented_programming          1   \n",
       "2018-01-26 03:56:24            javascript-i/conditionals          2   \n",
       "\n",
       "                     unknown_2            ip  \n",
       "date_time                                     \n",
       "2018-01-26 03:55:03        8.0  98.106.20.62  \n",
       "2018-01-26 03:56:02        8.0  98.106.20.62  \n",
       "2018-01-26 03:56:05        8.0  98.106.20.62  \n",
       "2018-01-26 03:56:06        8.0  98.106.20.62  \n",
       "2018-01-26 03:56:24       22.0  98.106.20.62  "
      ]
     },
     "execution_count": 4,
     "metadata": {},
     "output_type": "execute_result"
    }
   ],
   "source": [
    "# Convert to time stamp and from greenwich to central time zone\n",
    "df['date_time'] = pd.to_datetime(df.date_time) - timedelta(hours=6)\n",
    "\n",
    "df = df.set_index(\"date_time\")\n",
    "df.head()"
   ]
  },
  {
   "cell_type": "code",
   "execution_count": 5,
   "metadata": {},
   "outputs": [
    {
     "name": "stdout",
     "output_type": "stream",
     "text": [
      "<class 'pandas.core.frame.DataFrame'>\n",
      "DatetimeIndex: 543596 entries, 2018-01-26 03:55:03 to 2020-05-15 09:06:05\n",
      "Data columns (total 4 columns):\n",
      "destination    543595 non-null object\n",
      "unknown_1      543596 non-null int64\n",
      "unknown_2      515740 non-null float64\n",
      "ip             543596 non-null object\n",
      "dtypes: float64(1), int64(1), object(2)\n",
      "memory usage: 20.7+ MB\n"
     ]
    }
   ],
   "source": [
    "df.info()"
   ]
  },
  {
   "cell_type": "code",
   "execution_count": 6,
   "metadata": {},
   "outputs": [
    {
     "data": {
      "text/plain": [
       "(543596, 4)"
      ]
     },
     "execution_count": 6,
     "metadata": {},
     "output_type": "execute_result"
    }
   ],
   "source": [
    "df.shape"
   ]
  },
  {
   "cell_type": "markdown",
   "metadata": {},
   "source": [
    "### 1. Check anormaly on ip address."
   ]
  },
  {
   "cell_type": "code",
   "execution_count": 7,
   "metadata": {},
   "outputs": [
    {
     "data": {
      "text/html": [
       "<div>\n",
       "<style scoped>\n",
       "    .dataframe tbody tr th:only-of-type {\n",
       "        vertical-align: middle;\n",
       "    }\n",
       "\n",
       "    .dataframe tbody tr th {\n",
       "        vertical-align: top;\n",
       "    }\n",
       "\n",
       "    .dataframe thead th {\n",
       "        text-align: right;\n",
       "    }\n",
       "</style>\n",
       "<table border=\"1\" class=\"dataframe\">\n",
       "  <thead>\n",
       "    <tr style=\"text-align: right;\">\n",
       "      <th></th>\n",
       "      <th>ip</th>\n",
       "      <th>ip_count</th>\n",
       "      <th>ip_proba</th>\n",
       "    </tr>\n",
       "  </thead>\n",
       "  <tbody>\n",
       "    <tr>\n",
       "      <td>0</td>\n",
       "      <td>98.106.20.59</td>\n",
       "      <td>284579</td>\n",
       "      <td>0.523512</td>\n",
       "    </tr>\n",
       "    <tr>\n",
       "      <td>1</td>\n",
       "      <td>98.106.20.62</td>\n",
       "      <td>61662</td>\n",
       "      <td>0.113434</td>\n",
       "    </tr>\n",
       "    <tr>\n",
       "      <td>2</td>\n",
       "      <td>193.172.118.211</td>\n",
       "      <td>9029</td>\n",
       "      <td>0.016610</td>\n",
       "    </tr>\n",
       "    <tr>\n",
       "      <td>3</td>\n",
       "      <td>13.107.209.195</td>\n",
       "      <td>4219</td>\n",
       "      <td>0.007761</td>\n",
       "    </tr>\n",
       "    <tr>\n",
       "      <td>4</td>\n",
       "      <td>173.125.68.94</td>\n",
       "      <td>2980</td>\n",
       "      <td>0.005482</td>\n",
       "    </tr>\n",
       "    <tr>\n",
       "      <td>...</td>\n",
       "      <td>...</td>\n",
       "      <td>...</td>\n",
       "      <td>...</td>\n",
       "    </tr>\n",
       "    <tr>\n",
       "      <td>3490</td>\n",
       "      <td>200.117.116.148</td>\n",
       "      <td>1</td>\n",
       "      <td>0.000002</td>\n",
       "    </tr>\n",
       "    <tr>\n",
       "      <td>3491</td>\n",
       "      <td>73.129.132.67</td>\n",
       "      <td>1</td>\n",
       "      <td>0.000002</td>\n",
       "    </tr>\n",
       "    <tr>\n",
       "      <td>3492</td>\n",
       "      <td>190.147.47.150</td>\n",
       "      <td>1</td>\n",
       "      <td>0.000002</td>\n",
       "    </tr>\n",
       "    <tr>\n",
       "      <td>3493</td>\n",
       "      <td>175.208.3.33</td>\n",
       "      <td>1</td>\n",
       "      <td>0.000002</td>\n",
       "    </tr>\n",
       "    <tr>\n",
       "      <td>3494</td>\n",
       "      <td>173.59.68.141</td>\n",
       "      <td>1</td>\n",
       "      <td>0.000002</td>\n",
       "    </tr>\n",
       "  </tbody>\n",
       "</table>\n",
       "<p>3495 rows × 3 columns</p>\n",
       "</div>"
      ],
      "text/plain": [
       "                   ip  ip_count  ip_proba\n",
       "0        98.106.20.59    284579  0.523512\n",
       "1        98.106.20.62     61662  0.113434\n",
       "2     193.172.118.211      9029  0.016610\n",
       "3      13.107.209.195      4219  0.007761\n",
       "4       173.125.68.94      2980  0.005482\n",
       "...               ...       ...       ...\n",
       "3490  200.117.116.148         1  0.000002\n",
       "3491    73.129.132.67         1  0.000002\n",
       "3492   190.147.47.150         1  0.000002\n",
       "3493     175.208.3.33         1  0.000002\n",
       "3494    173.59.68.141         1  0.000002\n",
       "\n",
       "[3495 rows x 3 columns]"
      ]
     },
     "execution_count": 7,
     "metadata": {},
     "output_type": "execute_result"
    }
   ],
   "source": [
    "ip_df =pd.DataFrame(df.ip.value_counts(dropna=False)).reset_index().rename(columns={'index': 'ip', 'ip': 'ip_count'})\n",
    "\n",
    "ip_df2 = pd.DataFrame(df.ip.value_counts(dropna=False)/df.ip.count()).reset_index().\\\n",
    "                rename( columns={'index': 'ip', 'ip': 'ip_proba'})\n",
    "\n",
    "ip_df = ip_df.merge(ip_df2)\n",
    "ip_df"
   ]
  },
  {
   "cell_type": "code",
   "execution_count": 8,
   "metadata": {
    "scrolled": false
   },
   "outputs": [
    {
     "name": "stdout",
     "output_type": "stream",
     "text": [
      "3495\n"
     ]
    },
    {
     "data": {
      "text/plain": [
       "(array([ 0,  1,  2,  3,  4,  5,  6,  7,  8,  9, 10, 11, 12, 13, 14, 15, 16,\n",
       "        17, 18, 19]), <a list of 20 Text xticklabel objects>)"
      ]
     },
     "execution_count": 8,
     "metadata": {},
     "output_type": "execute_result"
    },
    {
     "data": {
      "image/png": "[encoded data removed]",
      "text/plain": [
       "<Figure size 864x288 with 1 Axes>"
      ]
     },
     "metadata": {
      "needs_background": "light"
     },
     "output_type": "display_data"
    }
   ],
   "source": [
    "print(len(ip_df))\n",
    "\n",
    "\n",
    "plt.figure(figsize=(12, 4))\n",
    "splot = sns.barplot(data=ip_df.head(20), x = 'ip', y = 'ip_count', ci = None)\n",
    "for p in splot.patches:\n",
    "    splot.annotate(format(p.get_height(), '.0f'), \n",
    "                   (p.get_x() + p.get_width() / 2., p.get_height()), \n",
    "                   ha = 'center', va = 'center', xytext = (0, 10), \n",
    "                   textcoords = 'offset points'\n",
    "                   )\n",
    "\n",
    "plt.xticks(rotation='vertical')"
   ]
  },
  {
   "cell_type": "code",
   "execution_count": 9,
   "metadata": {},
   "outputs": [
    {
     "data": {
      "text/html": [
       "<div>\n",
       "<style scoped>\n",
       "    .dataframe tbody tr th:only-of-type {\n",
       "        vertical-align: middle;\n",
       "    }\n",
       "\n",
       "    .dataframe tbody tr th {\n",
       "        vertical-align: top;\n",
       "    }\n",
       "\n",
       "    .dataframe thead th {\n",
       "        text-align: right;\n",
       "    }\n",
       "</style>\n",
       "<table border=\"1\" class=\"dataframe\">\n",
       "  <thead>\n",
       "    <tr style=\"text-align: right;\">\n",
       "      <th></th>\n",
       "      <th>ip</th>\n",
       "      <th>ip_count</th>\n",
       "      <th>ip_proba</th>\n",
       "    </tr>\n",
       "  </thead>\n",
       "  <tbody>\n",
       "    <tr>\n",
       "      <td>1863</td>\n",
       "      <td>200.117.116.132</td>\n",
       "      <td>5</td>\n",
       "      <td>0.000009</td>\n",
       "    </tr>\n",
       "    <tr>\n",
       "      <td>1864</td>\n",
       "      <td>100.204.27.57</td>\n",
       "      <td>5</td>\n",
       "      <td>0.000009</td>\n",
       "    </tr>\n",
       "    <tr>\n",
       "      <td>1865</td>\n",
       "      <td>108.78.218.129</td>\n",
       "      <td>5</td>\n",
       "      <td>0.000009</td>\n",
       "    </tr>\n",
       "    <tr>\n",
       "      <td>1866</td>\n",
       "      <td>72.41.250.35</td>\n",
       "      <td>5</td>\n",
       "      <td>0.000009</td>\n",
       "    </tr>\n",
       "    <tr>\n",
       "      <td>1867</td>\n",
       "      <td>73.191.233.109</td>\n",
       "      <td>5</td>\n",
       "      <td>0.000009</td>\n",
       "    </tr>\n",
       "    <tr>\n",
       "      <td>...</td>\n",
       "      <td>...</td>\n",
       "      <td>...</td>\n",
       "      <td>...</td>\n",
       "    </tr>\n",
       "    <tr>\n",
       "      <td>3490</td>\n",
       "      <td>200.117.116.148</td>\n",
       "      <td>1</td>\n",
       "      <td>0.000002</td>\n",
       "    </tr>\n",
       "    <tr>\n",
       "      <td>3491</td>\n",
       "      <td>73.129.132.67</td>\n",
       "      <td>1</td>\n",
       "      <td>0.000002</td>\n",
       "    </tr>\n",
       "    <tr>\n",
       "      <td>3492</td>\n",
       "      <td>190.147.47.150</td>\n",
       "      <td>1</td>\n",
       "      <td>0.000002</td>\n",
       "    </tr>\n",
       "    <tr>\n",
       "      <td>3493</td>\n",
       "      <td>175.208.3.33</td>\n",
       "      <td>1</td>\n",
       "      <td>0.000002</td>\n",
       "    </tr>\n",
       "    <tr>\n",
       "      <td>3494</td>\n",
       "      <td>173.59.68.141</td>\n",
       "      <td>1</td>\n",
       "      <td>0.000002</td>\n",
       "    </tr>\n",
       "  </tbody>\n",
       "</table>\n",
       "<p>1632 rows × 3 columns</p>\n",
       "</div>"
      ],
      "text/plain": [
       "                   ip  ip_count  ip_proba\n",
       "1863  200.117.116.132         5  0.000009\n",
       "1864    100.204.27.57         5  0.000009\n",
       "1865   108.78.218.129         5  0.000009\n",
       "1866     72.41.250.35         5  0.000009\n",
       "1867   73.191.233.109         5  0.000009\n",
       "...               ...       ...       ...\n",
       "3490  200.117.116.148         1  0.000002\n",
       "3491    73.129.132.67         1  0.000002\n",
       "3492   190.147.47.150         1  0.000002\n",
       "3493     175.208.3.33         1  0.000002\n",
       "3494    173.59.68.141         1  0.000002\n",
       "\n",
       "[1632 rows x 3 columns]"
      ]
     },
     "execution_count": 9,
     "metadata": {},
     "output_type": "execute_result"
    }
   ],
   "source": [
    "ip_df[ip_df.ip_proba< .00001]"
   ]
  },
  {
   "cell_type": "markdown",
   "metadata": {},
   "source": [
    "Takeaways :The number of clicks to the ds website does not really tell whether it is an anormaly becuase some people looked at it and did not show too much interest so they never come back again.\n"
   ]
  },
  {
   "cell_type": "markdown",
   "metadata": {},
   "source": [
    "### 2. Check anormaly on unknow_1"
   ]
  },
  {
   "cell_type": "code",
   "execution_count": 10,
   "metadata": {},
   "outputs": [
    {
     "data": {
      "text/plain": [
       "0"
      ]
     },
     "execution_count": 10,
     "metadata": {},
     "output_type": "execute_result"
    }
   ],
   "source": [
    "df.unknown_1.isna().sum()"
   ]
  },
  {
   "cell_type": "code",
   "execution_count": 11,
   "metadata": {},
   "outputs": [
    {
     "data": {
      "text/plain": [
       "array([  1,   2,   3,   4,   5,   6,   7,   8,   9,  10,  11,  12,  13,\n",
       "        14,  15,  16,  17,  18,  19,  20,  21,  22,  23,  24,  25,  26,\n",
       "        27,  28,  29,  30,  31,  32,  33,  34,  35,  36,  37,  38,  39,\n",
       "        40,  41,  42,  43,  44,  45,  46,  47,  48,  49,  50,  51,  52,\n",
       "        53,  54,  55,  56,  57,  58,  59,  60,  61,  62,  63,  64,  65,\n",
       "        66,  67,  68,  69,  70,  71,  72,  73,  74,  75,  76,  77,  78,\n",
       "        79,  80,  81,  82,  83,  84,  85,  86,  87,  88,  89,  90,  91,\n",
       "        92,  93,  94,  95,  96,  97,  98,  99, 100, 101, 102, 103, 104,\n",
       "       105, 106, 107, 108, 109, 110, 111, 112, 113, 114, 115, 116, 117,\n",
       "       118, 119, 120, 121, 122, 123, 124, 125, 126, 127, 128, 129, 130,\n",
       "       131, 132, 133, 134, 135, 136, 137, 138, 139, 140, 141, 142, 143,\n",
       "       144, 145, 146, 147, 148, 149, 150, 151, 152, 153, 154, 155, 156,\n",
       "       157, 158, 159, 160, 161, 162, 163, 164, 165, 166, 167, 168, 169,\n",
       "       170, 171, 172, 173, 174, 175, 176, 177, 178, 179, 180, 181, 182,\n",
       "       183, 184, 185, 186, 187, 188, 189, 190, 191, 192, 193, 194, 195,\n",
       "       196, 197, 198, 199, 200, 201, 202, 203, 204, 205, 206, 207, 208,\n",
       "       209, 210, 211, 212, 213, 214, 215, 216, 217, 218, 219, 220, 221,\n",
       "       222, 223, 224, 225, 226, 227, 228, 229, 230, 231, 232, 233, 234,\n",
       "       235, 236, 237, 238, 239, 240, 241, 242, 243, 244, 245, 246, 247,\n",
       "       248, 249, 250, 251, 252, 253, 254, 255, 256, 257, 258, 259, 260,\n",
       "       261, 262, 263, 264, 265, 266, 267, 268, 269, 270, 271, 272, 273,\n",
       "       274, 275, 276, 277, 278, 279, 280, 281, 282, 283, 284, 285, 286,\n",
       "       287, 288, 289, 290, 291, 292, 293, 294, 295, 296, 297, 298, 299,\n",
       "       300, 301, 302, 303, 304, 305, 306, 307, 308, 309, 310, 311, 312,\n",
       "       313, 314, 315, 316, 317, 318, 319, 320, 321, 322, 323, 324, 325,\n",
       "       326, 327, 328, 329, 330, 331, 332, 333, 334, 335, 336, 337, 338,\n",
       "       339, 340, 341, 342, 343, 344, 345, 346, 347, 348, 349, 350, 351,\n",
       "       352, 353, 354, 355, 356, 357, 358, 359, 360, 361, 362, 363, 364,\n",
       "       365, 366, 367, 368, 369, 370, 371, 372, 373, 374, 375, 376, 377,\n",
       "       378, 379, 380, 381, 382, 383, 384, 385, 386, 387, 388, 389, 390,\n",
       "       391, 392, 393, 394, 395, 396, 397, 398, 399, 400, 401, 402, 403,\n",
       "       404, 405, 406, 407, 408, 409, 410, 411, 412, 413, 414, 415, 416,\n",
       "       417, 418, 419, 420, 421, 422, 423, 424, 425, 426, 427, 428, 429,\n",
       "       430, 431, 432, 433, 434, 435, 436, 437, 438, 439, 440, 441, 442,\n",
       "       443, 444, 445, 446, 447, 448, 449, 450, 451, 452, 453, 454, 455,\n",
       "       456, 457, 458, 459, 460, 461, 462, 463, 464, 465, 466, 467, 468,\n",
       "       469, 470, 471, 472, 473, 474, 475, 476, 477, 478, 479, 480, 481,\n",
       "       482, 483, 484, 485, 486, 487, 488, 489, 490, 491, 492, 493, 494,\n",
       "       495, 496, 497, 498, 499, 500, 501, 502, 503, 504, 505, 506, 507,\n",
       "       508, 509, 510, 511, 512, 513, 514, 515, 516, 517, 518, 519, 520,\n",
       "       521, 522, 523, 524, 525, 526, 527, 528, 529, 530, 531, 532, 533,\n",
       "       534, 535, 536, 537, 538, 539, 540, 541, 542, 543, 544, 545, 546,\n",
       "       547, 548, 549, 550, 551, 552, 553, 554, 555, 556, 557, 558, 559,\n",
       "       560, 561, 562, 563, 564, 565, 566, 567, 568, 569, 570, 571, 572,\n",
       "       573, 574, 575, 576, 577, 578, 579, 580, 581, 582, 583, 584, 585,\n",
       "       586, 587, 588, 589, 590, 591, 592, 593, 594, 595, 596, 597, 598,\n",
       "       599, 600, 601, 602, 603, 604, 605, 606, 607, 608, 609, 610, 611,\n",
       "       612, 613, 614, 615, 616, 617, 618, 619, 620, 621, 622, 623, 624,\n",
       "       625, 626, 627, 628, 629, 630, 631, 632, 633, 634, 635, 636, 637,\n",
       "       638, 639, 640, 641, 642, 643, 644, 645, 646, 647, 648, 649, 650])"
      ]
     },
     "execution_count": 11,
     "metadata": {},
     "output_type": "execute_result"
    }
   ],
   "source": [
    "df.unknown_1.unique()"
   ]
  },
  {
   "cell_type": "code",
   "execution_count": 12,
   "metadata": {},
   "outputs": [
    {
     "data": {
      "text/plain": [
       "(650,)"
      ]
     },
     "execution_count": 12,
     "metadata": {},
     "output_type": "execute_result"
    }
   ],
   "source": [
    "df.unknown_1.unique().shape"
   ]
  },
  {
   "cell_type": "markdown",
   "metadata": {},
   "source": [
    "There are 650 unique values, and they are uniformed, So it may represent the user Id."
   ]
  },
  {
   "cell_type": "code",
   "execution_count": 13,
   "metadata": {},
   "outputs": [],
   "source": [
    "df = df.rename(columns= {'unknown_1':'user'})"
   ]
  },
  {
   "cell_type": "markdown",
   "metadata": {},
   "source": [
    "### 3. Check anormaly on unknown_2"
   ]
  },
  {
   "cell_type": "code",
   "execution_count": 14,
   "metadata": {},
   "outputs": [
    {
     "data": {
      "text/plain": [
       "27856"
      ]
     },
     "execution_count": 14,
     "metadata": {},
     "output_type": "execute_result"
    }
   ],
   "source": [
    "df.unknown_2.isna().sum()"
   ]
  },
  {
   "cell_type": "code",
   "execution_count": 15,
   "metadata": {},
   "outputs": [
    {
     "data": {
      "text/plain": [
       "array([ 1.,  2.,  4.,  5.,  6.,  7.,  8.,  9., 11., 12., 13., 14., 15.,\n",
       "       16., 17., 18., 19., 21., 22., 23., 24., 25., 26., 27., 28., 29.,\n",
       "       31., 32., 33., 34., 51., 52., 53., 55., 56., 57., nan])"
      ]
     },
     "execution_count": 15,
     "metadata": {},
     "output_type": "execute_result"
    }
   ],
   "source": [
    "np.sort(df.unknown_2.unique())"
   ]
  },
  {
   "cell_type": "code",
   "execution_count": 16,
   "metadata": {},
   "outputs": [],
   "source": [
    "df = df.rename(columns= {'unknown_2':'cohort'})"
   ]
  },
  {
   "cell_type": "markdown",
   "metadata": {},
   "source": [
    "1. The first anormaly I found is that we are misssing some cohorts\n",
    "2. Some people whose cohort id is nan maybe the employees and some contractors"
   ]
  },
  {
   "cell_type": "code",
   "execution_count": 17,
   "metadata": {},
   "outputs": [
    {
     "data": {
      "text/plain": [
       "cohort\n",
       "1.0     18\n",
       "2.0      3\n",
       "4.0      1\n",
       "5.0      1\n",
       "6.0      2\n",
       "7.0      6\n",
       "8.0      5\n",
       "9.0      1\n",
       "11.0     5\n",
       "12.0     4\n",
       "13.0    10\n",
       "14.0    12\n",
       "15.0     5\n",
       "16.0     8\n",
       "17.0    13\n",
       "18.0    14\n",
       "19.0    17\n",
       "21.0    28\n",
       "22.0    35\n",
       "23.0    33\n",
       "24.0    34\n",
       "25.0    26\n",
       "26.0    20\n",
       "27.0    28\n",
       "28.0    27\n",
       "29.0    25\n",
       "31.0    28\n",
       "32.0    21\n",
       "33.0    29\n",
       "34.0    23\n",
       "51.0    25\n",
       "52.0    28\n",
       "53.0    27\n",
       "55.0    19\n",
       "56.0    21\n",
       "57.0    26\n",
       "Name: user, dtype: int64"
      ]
     },
     "execution_count": 17,
     "metadata": {},
     "output_type": "execute_result"
    }
   ],
   "source": [
    "# how many users in each cohort?\n",
    "df.groupby(['cohort']).user.nunique()"
   ]
  },
  {
   "cell_type": "markdown",
   "metadata": {},
   "source": [
    "looks like first a few cohorts have very small number of students"
   ]
  },
  {
   "cell_type": "code",
   "execution_count": 18,
   "metadata": {},
   "outputs": [
    {
     "data": {
      "text/html": [
       "<div>\n",
       "<style scoped>\n",
       "    .dataframe tbody tr th:only-of-type {\n",
       "        vertical-align: middle;\n",
       "    }\n",
       "\n",
       "    .dataframe tbody tr th {\n",
       "        vertical-align: top;\n",
       "    }\n",
       "\n",
       "    .dataframe thead th {\n",
       "        text-align: right;\n",
       "    }\n",
       "</style>\n",
       "<table border=\"1\" class=\"dataframe\">\n",
       "  <thead>\n",
       "    <tr style=\"text-align: right;\">\n",
       "      <th></th>\n",
       "      <th>destination</th>\n",
       "      <th>user</th>\n",
       "      <th>cohort</th>\n",
       "      <th>ip</th>\n",
       "    </tr>\n",
       "    <tr>\n",
       "      <th>date_time</th>\n",
       "      <th></th>\n",
       "      <th></th>\n",
       "      <th></th>\n",
       "      <th></th>\n",
       "    </tr>\n",
       "  </thead>\n",
       "  <tbody>\n",
       "    <tr>\n",
       "      <td>2020-05-11 01:42:55</td>\n",
       "      <td>9-timeseries/1-overview</td>\n",
       "      <td>589</td>\n",
       "      <td>55.0</td>\n",
       "      <td>71.131.128.114</td>\n",
       "    </tr>\n",
       "    <tr>\n",
       "      <td>2020-05-11 01:59:31</td>\n",
       "      <td>9-timeseries/1-overview</td>\n",
       "      <td>589</td>\n",
       "      <td>55.0</td>\n",
       "      <td>71.131.128.114</td>\n",
       "    </tr>\n",
       "    <tr>\n",
       "      <td>2020-05-11 02:04:41</td>\n",
       "      <td>9-timeseries/1-overview</td>\n",
       "      <td>617</td>\n",
       "      <td>55.0</td>\n",
       "      <td>65.251.10.182</td>\n",
       "    </tr>\n",
       "    <tr>\n",
       "      <td>2020-05-11 02:06:31</td>\n",
       "      <td>9-timeseries/2-acquire</td>\n",
       "      <td>480</td>\n",
       "      <td>34.0</td>\n",
       "      <td>76.2.167.164</td>\n",
       "    </tr>\n",
       "    <tr>\n",
       "      <td>2020-05-11 02:17:27</td>\n",
       "      <td>9-timeseries/1-overview</td>\n",
       "      <td>586</td>\n",
       "      <td>55.0</td>\n",
       "      <td>68.11.170.7</td>\n",
       "    </tr>\n",
       "    <tr>\n",
       "      <td>...</td>\n",
       "      <td>...</td>\n",
       "      <td>...</td>\n",
       "      <td>...</td>\n",
       "      <td>...</td>\n",
       "    </tr>\n",
       "    <tr>\n",
       "      <td>2020-05-14 11:12:41</td>\n",
       "      <td>9-timeseries/5.2-modeling-lesson2</td>\n",
       "      <td>248</td>\n",
       "      <td>28.0</td>\n",
       "      <td>174.174.116.202</td>\n",
       "    </tr>\n",
       "    <tr>\n",
       "      <td>2020-05-14 16:04:32</td>\n",
       "      <td>9-timeseries/5.2-modeling-lesson2</td>\n",
       "      <td>576</td>\n",
       "      <td>55.0</td>\n",
       "      <td>100.127.114.141</td>\n",
       "    </tr>\n",
       "    <tr>\n",
       "      <td>2020-05-14 16:05:00</td>\n",
       "      <td>9-timeseries/project</td>\n",
       "      <td>576</td>\n",
       "      <td>55.0</td>\n",
       "      <td>100.127.114.141</td>\n",
       "    </tr>\n",
       "    <tr>\n",
       "      <td>2020-05-14 16:05:08</td>\n",
       "      <td>9-timeseries/5.2-modeling-lesson2</td>\n",
       "      <td>576</td>\n",
       "      <td>55.0</td>\n",
       "      <td>100.127.114.141</td>\n",
       "    </tr>\n",
       "    <tr>\n",
       "      <td>2020-05-14 16:08:07</td>\n",
       "      <td>9-timeseries/5.1-modeling-lesson1</td>\n",
       "      <td>576</td>\n",
       "      <td>55.0</td>\n",
       "      <td>100.127.114.141</td>\n",
       "    </tr>\n",
       "  </tbody>\n",
       "</table>\n",
       "<p>334 rows × 4 columns</p>\n",
       "</div>"
      ],
      "text/plain": [
       "                                           destination  user  cohort  \\\n",
       "date_time                                                              \n",
       "2020-05-11 01:42:55            9-timeseries/1-overview   589    55.0   \n",
       "2020-05-11 01:59:31            9-timeseries/1-overview   589    55.0   \n",
       "2020-05-11 02:04:41            9-timeseries/1-overview   617    55.0   \n",
       "2020-05-11 02:06:31             9-timeseries/2-acquire   480    34.0   \n",
       "2020-05-11 02:17:27            9-timeseries/1-overview   586    55.0   \n",
       "...                                                ...   ...     ...   \n",
       "2020-05-14 11:12:41  9-timeseries/5.2-modeling-lesson2   248    28.0   \n",
       "2020-05-14 16:04:32  9-timeseries/5.2-modeling-lesson2   576    55.0   \n",
       "2020-05-14 16:05:00               9-timeseries/project   576    55.0   \n",
       "2020-05-14 16:05:08  9-timeseries/5.2-modeling-lesson2   576    55.0   \n",
       "2020-05-14 16:08:07  9-timeseries/5.1-modeling-lesson1   576    55.0   \n",
       "\n",
       "                                  ip  \n",
       "date_time                             \n",
       "2020-05-11 01:42:55   71.131.128.114  \n",
       "2020-05-11 01:59:31   71.131.128.114  \n",
       "2020-05-11 02:04:41    65.251.10.182  \n",
       "2020-05-11 02:06:31     76.2.167.164  \n",
       "2020-05-11 02:17:27      68.11.170.7  \n",
       "...                              ...  \n",
       "2020-05-14 11:12:41  174.174.116.202  \n",
       "2020-05-14 16:04:32  100.127.114.141  \n",
       "2020-05-14 16:05:00  100.127.114.141  \n",
       "2020-05-14 16:05:08  100.127.114.141  \n",
       "2020-05-14 16:08:07  100.127.114.141  \n",
       "\n",
       "[334 rows x 4 columns]"
      ]
     },
     "execution_count": 18,
     "metadata": {},
     "output_type": "execute_result"
    }
   ],
   "source": [
    "df['2020-05-11':'2020-05-14'][df['2020-05-11':'2020-05-14'].destination.str.contains('timeseries')]"
   ]
  },
  {
   "cell_type": "code",
   "execution_count": 19,
   "metadata": {},
   "outputs": [
    {
     "data": {
      "text/plain": [
       "cohort\n",
       "28.0     3\n",
       "34.0     2\n",
       "55.0    16\n",
       "Name: user, dtype: int64"
      ]
     },
     "execution_count": 19,
     "metadata": {},
     "output_type": "execute_result"
    }
   ],
   "source": [
    "df['2020-05-11':'2020-05-14'][df['2020-05-11':'2020-05-14'].destination.str.contains('timeseries')].groupby(['cohort']).user.nunique()"
   ]
  },
  {
   "cell_type": "markdown",
   "metadata": {},
   "source": [
    "So the curie is cohort 55"
   ]
  },
  {
   "cell_type": "code",
   "execution_count": 29,
   "metadata": {},
   "outputs": [
    {
     "data": {
      "text/plain": [
       "cohort\n",
       "28.0                                              [1, 11]\n",
       "34.0                                                [480]\n",
       "55.0    [579, 584, 588, 616, 582, 590, 581, 575, 583, ...\n",
       "Name: user, dtype: object"
      ]
     },
     "execution_count": 29,
     "metadata": {},
     "output_type": "execute_result"
    }
   ],
   "source": [
    "df['2020-05-15'][df['2020-05-15'].destination.str.contains('timeseries')].groupby(['cohort']).user.unique()"
   ]
  },
  {
   "cell_type": "code",
   "execution_count": 28,
   "metadata": {},
   "outputs": [
    {
     "data": {
      "text/html": [
       "<div>\n",
       "<style scoped>\n",
       "    .dataframe tbody tr th:only-of-type {\n",
       "        vertical-align: middle;\n",
       "    }\n",
       "\n",
       "    .dataframe tbody tr th {\n",
       "        vertical-align: top;\n",
       "    }\n",
       "\n",
       "    .dataframe thead th {\n",
       "        text-align: right;\n",
       "    }\n",
       "</style>\n",
       "<table border=\"1\" class=\"dataframe\">\n",
       "  <thead>\n",
       "    <tr style=\"text-align: right;\">\n",
       "      <th></th>\n",
       "      <th>destination</th>\n",
       "      <th>user</th>\n",
       "      <th>cohort</th>\n",
       "      <th>ip</th>\n",
       "    </tr>\n",
       "    <tr>\n",
       "      <th>date_time</th>\n",
       "      <th></th>\n",
       "      <th></th>\n",
       "      <th></th>\n",
       "      <th></th>\n",
       "    </tr>\n",
       "  </thead>\n",
       "  <tbody>\n",
       "  </tbody>\n",
       "</table>\n",
       "</div>"
      ],
      "text/plain": [
       "Empty DataFrame\n",
       "Columns: [destination, user, cohort, ip]\n",
       "Index: []"
      ]
     },
     "execution_count": 28,
     "metadata": {},
     "output_type": "execute_result"
    }
   ],
   "source": [
    "df[df.ip.str.contains('130.45')]\n"
   ]
  },
  {
   "cell_type": "code",
   "execution_count": null,
   "metadata": {},
   "outputs": [],
   "source": []
  }
 ],
 "metadata": {
  "kernelspec": {
   "display_name": "Python 3",
   "language": "python",
   "name": "python3"
  },
  "language_info": {
   "codemirror_mode": {
    "name": "ipython",
    "version": 3
   },
   "file_extension": ".py",
   "mimetype": "text/x-python",
   "name": "python",
   "nbconvert_exporter": "python",
   "pygments_lexer": "ipython3",
   "version": "3.7.4"
  }
 },
 "nbformat": 4,
 "nbformat_minor": 2
}
